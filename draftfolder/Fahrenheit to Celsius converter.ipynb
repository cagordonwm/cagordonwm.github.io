{
 "cells": [
  {
   "cell_type": "markdown",
   "metadata": {},
   "source": [
    "# Keyboard Input: Converting Fahrenheit temperatures Celsius\n",
    "\n",
    "### This program allows a user to enter keyboard data in response to a request for a Fahrenheit temperature\n",
    "-  This program utilizes a \"Try & Except\" conditional Boolean statement to error trap non-numeric values entered into a program designed to convert numeric integer or float Fahrenheit degree values into Celsius degree values.\n",
    "\n",
    "-  If an integer or float numeric value is entered, the program will convert it into a float value and calculate the degrees Celsius\n",
    "\n",
    "-  If a non-numeric value is entered, the program will capture the error and generate an output statement: \"The data you entered is unable to be converted to a Celsius temperature.  Please input a numeric value, thank you!\""
   ]
  },
  {
   "cell_type": "code",
   "execution_count": 1,
   "metadata": {},
   "outputs": [
    {
     "name": "stdout",
     "output_type": "stream",
     "text": [
      "Please enter temperature in Fahrenheit:78\n",
      "The Celsius equivalent of the temperature you entered, 78.0 degrees Fahrenheit, is 25.555555555555557 degrees Celsius. Please select SHIFT + ENTER to enter another value, thank you!\n"
     ]
    }
   ],
   "source": [
    "F_input = input('Please enter temperature in Fahrenheit:')\n",
    "try:  #this Boolean conditional statement attempts to convert the user-input value into a float value, as required by assignment.\n",
    "    F_input = float(F_input) #this converts the input value into a float number, if possible  \n",
    "    print('The Celsius equivalent of the temperature you entered,', F_input,'degrees Fahrenheit, is', (F_input - 32.0) * 5 / 9,'degrees Celsius. Please select SHIFT + ENTER to enter another value, thank you!') # This line will transform the Fahrenheit float value into Celsius degrees\n",
    "except Exception as err:  #If the \"try\" conditional statement is unable to transform the input into a float number, it will return the following statement:\n",
    "    print('The data you entered is unable to be converted to a Celsius temperature. Please input a numeric value, thank you!')"
   ]
  },
  {
   "cell_type": "code",
   "execution_count": null,
   "metadata": {},
   "outputs": [],
   "source": []
  }
 ],
 "metadata": {
  "kernelspec": {
   "display_name": "Python 3",
   "language": "python",
   "name": "python3"
  },
  "language_info": {
   "codemirror_mode": {
    "name": "ipython",
    "version": 3
   },
   "file_extension": ".py",
   "mimetype": "text/x-python",
   "name": "python",
   "nbconvert_exporter": "python",
   "pygments_lexer": "ipython3",
   "version": "3.7.6"
  }
 },
 "nbformat": 4,
 "nbformat_minor": 4
}
